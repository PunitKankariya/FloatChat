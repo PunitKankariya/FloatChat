{
 "cells": [
  {
   "cell_type": "code",
   "execution_count": 1,
   "metadata": {},
   "outputs": [
    {
     "name": "stdout",
     "output_type": "stream",
     "text": [
      "True\n"
     ]
    },
    {
     "name": "stderr",
     "output_type": "stream",
     "text": [
      "c:\\just be there\\hackathon\\FloatChat\\.venv\\Lib\\site-packages\\tqdm\\auto.py:21: TqdmWarning: IProgress not found. Please update jupyter and ipywidgets. See https://ipywidgets.readthedocs.io/en/stable/user_install.html\n",
      "  from .autonotebook import tqdm as notebook_tqdm\n"
     ]
    }
   ],
   "source": [
    "import os\n",
    "from pyprojroot import here\n",
    "import pandas as pd\n",
    "import chromadb\n",
    "import google.generativeai as genai\n",
    "import warnings\n",
    "warnings.filterwarnings(\"ignore\")\n",
    "from dotenv import load_dotenv\n",
    "print(load_dotenv())"
   ]
  },
  {
   "cell_type": "code",
   "execution_count": 2,
   "metadata": {},
   "outputs": [],
   "source": [
    "google_api_key = os.environ[\"GOOGLE_API_KEY\"]"
   ]
  },
  {
   "cell_type": "code",
   "execution_count": 3,
   "metadata": {},
   "outputs": [],
   "source": [
    "genai.configure(api_key=google_api_key)\n",
    "gemini_client = genai.GenerativeModel('gemini-1.5-flash')\n",
    "\n",
    "chroma_client = chromadb.PersistentClient(path=str(here(\"data/chroma\")))"
   ]
  },
  {
   "cell_type": "markdown",
   "metadata": {},
   "source": [
    "**Create a collection for data injection**\n",
    "\n",
    "Throws an error if the table already exists"
   ]
  },
  {
   "cell_type": "code",
   "execution_count": 4,
   "metadata": {},
   "outputs": [
    {
     "ename": "InternalError",
     "evalue": "Collection [ocean_1] already exists",
     "output_type": "error",
     "traceback": [
      "\u001b[31m---------------------------------------------------------------------------\u001b[39m",
      "\u001b[31mInternalError\u001b[39m                             Traceback (most recent call last)",
      "\u001b[36mCell\u001b[39m\u001b[36m \u001b[39m\u001b[32mIn[4]\u001b[39m\u001b[32m, line 1\u001b[39m\n\u001b[32m----> \u001b[39m\u001b[32m1\u001b[39m collection = \u001b[43mchroma_client\u001b[49m\u001b[43m.\u001b[49m\u001b[43mcreate_collection\u001b[49m\u001b[43m(\u001b[49m\u001b[43mname\u001b[49m\u001b[43m=\u001b[49m\u001b[33;43m\"\u001b[39;49m\u001b[33;43mocean_1\u001b[39;49m\u001b[33;43m\"\u001b[39;49m\u001b[43m)\u001b[49m\n",
      "\u001b[36mFile \u001b[39m\u001b[32mc:\\just be there\\hackathon\\FloatChat\\.venv\\Lib\\site-packages\\chromadb\\api\\client.py:177\u001b[39m, in \u001b[36mClient.create_collection\u001b[39m\u001b[34m(self, name, configuration, metadata, embedding_function, data_loader, get_or_create)\u001b[39m\n\u001b[32m    174\u001b[39m \u001b[38;5;28;01mif\u001b[39;00m embedding_function \u001b[38;5;129;01mis\u001b[39;00m \u001b[38;5;129;01mnot\u001b[39;00m \u001b[38;5;28;01mNone\u001b[39;00m \u001b[38;5;129;01mand\u001b[39;00m configuration_ef \u001b[38;5;129;01mis\u001b[39;00m \u001b[38;5;28;01mNone\u001b[39;00m:\n\u001b[32m    175\u001b[39m     configuration[\u001b[33m\"\u001b[39m\u001b[33membedding_function\u001b[39m\u001b[33m\"\u001b[39m] = embedding_function\n\u001b[32m--> \u001b[39m\u001b[32m177\u001b[39m model = \u001b[38;5;28;43mself\u001b[39;49m\u001b[43m.\u001b[49m\u001b[43m_server\u001b[49m\u001b[43m.\u001b[49m\u001b[43mcreate_collection\u001b[49m\u001b[43m(\u001b[49m\n\u001b[32m    178\u001b[39m \u001b[43m    \u001b[49m\u001b[43mname\u001b[49m\u001b[43m=\u001b[49m\u001b[43mname\u001b[49m\u001b[43m,\u001b[49m\n\u001b[32m    179\u001b[39m \u001b[43m    \u001b[49m\u001b[43mmetadata\u001b[49m\u001b[43m=\u001b[49m\u001b[43mmetadata\u001b[49m\u001b[43m,\u001b[49m\n\u001b[32m    180\u001b[39m \u001b[43m    \u001b[49m\u001b[43mtenant\u001b[49m\u001b[43m=\u001b[49m\u001b[38;5;28;43mself\u001b[39;49m\u001b[43m.\u001b[49m\u001b[43mtenant\u001b[49m\u001b[43m,\u001b[49m\n\u001b[32m    181\u001b[39m \u001b[43m    \u001b[49m\u001b[43mdatabase\u001b[49m\u001b[43m=\u001b[49m\u001b[38;5;28;43mself\u001b[39;49m\u001b[43m.\u001b[49m\u001b[43mdatabase\u001b[49m\u001b[43m,\u001b[49m\n\u001b[32m    182\u001b[39m \u001b[43m    \u001b[49m\u001b[43mget_or_create\u001b[49m\u001b[43m=\u001b[49m\u001b[43mget_or_create\u001b[49m\u001b[43m,\u001b[49m\n\u001b[32m    183\u001b[39m \u001b[43m    \u001b[49m\u001b[43mconfiguration\u001b[49m\u001b[43m=\u001b[49m\u001b[43mconfiguration\u001b[49m\u001b[43m,\u001b[49m\n\u001b[32m    184\u001b[39m \u001b[43m\u001b[49m\u001b[43m)\u001b[49m\n\u001b[32m    185\u001b[39m \u001b[38;5;28;01mreturn\u001b[39;00m Collection(\n\u001b[32m    186\u001b[39m     client=\u001b[38;5;28mself\u001b[39m._server,\n\u001b[32m    187\u001b[39m     model=model,\n\u001b[32m    188\u001b[39m     embedding_function=embedding_function,\n\u001b[32m    189\u001b[39m     data_loader=data_loader,\n\u001b[32m    190\u001b[39m )\n",
      "\u001b[36mFile \u001b[39m\u001b[32mc:\\just be there\\hackathon\\FloatChat\\.venv\\Lib\\site-packages\\chromadb\\api\\rust.py:227\u001b[39m, in \u001b[36mRustBindingsAPI.create_collection\u001b[39m\u001b[34m(self, name, configuration, metadata, get_or_create, tenant, database)\u001b[39m\n\u001b[32m    224\u001b[39m \u001b[38;5;28;01melse\u001b[39;00m:\n\u001b[32m    225\u001b[39m     configuration_json_str = \u001b[38;5;28;01mNone\u001b[39;00m\n\u001b[32m--> \u001b[39m\u001b[32m227\u001b[39m collection = \u001b[38;5;28;43mself\u001b[39;49m\u001b[43m.\u001b[49m\u001b[43mbindings\u001b[49m\u001b[43m.\u001b[49m\u001b[43mcreate_collection\u001b[49m\u001b[43m(\u001b[49m\n\u001b[32m    228\u001b[39m \u001b[43m    \u001b[49m\u001b[43mname\u001b[49m\u001b[43m,\u001b[49m\u001b[43m \u001b[49m\u001b[43mconfiguration_json_str\u001b[49m\u001b[43m,\u001b[49m\u001b[43m \u001b[49m\u001b[43mmetadata\u001b[49m\u001b[43m,\u001b[49m\u001b[43m \u001b[49m\u001b[43mget_or_create\u001b[49m\u001b[43m,\u001b[49m\u001b[43m \u001b[49m\u001b[43mtenant\u001b[49m\u001b[43m,\u001b[49m\u001b[43m \u001b[49m\u001b[43mdatabase\u001b[49m\n\u001b[32m    229\u001b[39m \u001b[43m\u001b[49m\u001b[43m)\u001b[49m\n\u001b[32m    230\u001b[39m collection_model = CollectionModel(\n\u001b[32m    231\u001b[39m     \u001b[38;5;28mid\u001b[39m=collection.id,\n\u001b[32m    232\u001b[39m     name=collection.name,\n\u001b[32m   (...)\u001b[39m\u001b[32m    237\u001b[39m     database=collection.database,\n\u001b[32m    238\u001b[39m )\n\u001b[32m    239\u001b[39m \u001b[38;5;28;01mreturn\u001b[39;00m collection_model\n",
      "\u001b[31mInternalError\u001b[39m: Collection [ocean_1] already exists"
     ]
    }
   ],
   "source": [
    "collection = chroma_client.create_collection(name=\"ocean_1\")"
   ]
  },
  {
   "cell_type": "code",
   "execution_count": 5,
   "metadata": {},
   "outputs": [],
   "source": [
    "file_dir = here(\"data/for_upload/ocean_1.csv\")\n",
    "df = pd.read_csv(file_dir, nrows=5)"
   ]
  },
  {
   "cell_type": "code",
   "execution_count": 6,
   "metadata": {},
   "outputs": [
    {
     "data": {
      "text/html": [
       "<div>\n",
       "<style scoped>\n",
       "    .dataframe tbody tr th:only-of-type {\n",
       "        vertical-align: middle;\n",
       "    }\n",
       "\n",
       "    .dataframe tbody tr th {\n",
       "        vertical-align: top;\n",
       "    }\n",
       "\n",
       "    .dataframe thead th {\n",
       "        text-align: right;\n",
       "    }\n",
       "</style>\n",
       "<table border=\"1\" class=\"dataframe\">\n",
       "  <thead>\n",
       "    <tr style=\"text-align: right;\">\n",
       "      <th></th>\n",
       "      <th>id</th>\n",
       "      <th>type</th>\n",
       "      <th>cast_id</th>\n",
       "      <th>latitude</th>\n",
       "      <th>longitude</th>\n",
       "      <th>date</th>\n",
       "      <th>time</th>\n",
       "      <th>depth</th>\n",
       "      <th>temperature</th>\n",
       "      <th>salinity</th>\n",
       "      <th>pressure</th>\n",
       "      <th>dissolved_oxygen</th>\n",
       "      <th>region</th>\n",
       "    </tr>\n",
       "  </thead>\n",
       "  <tbody>\n",
       "    <tr>\n",
       "      <th>0</th>\n",
       "      <td>CTD_Southern_Indian_Ocean_1_20240317_1</td>\n",
       "      <td>CTD_Cast</td>\n",
       "      <td>CTD_Southern_Indian_Ocean_1_20240317</td>\n",
       "      <td>-29.4225</td>\n",
       "      <td>80.3244</td>\n",
       "      <td>2024-03-17</td>\n",
       "      <td>02:11:34</td>\n",
       "      <td>0.0</td>\n",
       "      <td>28.534</td>\n",
       "      <td>34.930</td>\n",
       "      <td>0.99</td>\n",
       "      <td>6.97</td>\n",
       "      <td>Southern Indian Ocean</td>\n",
       "    </tr>\n",
       "    <tr>\n",
       "      <th>1</th>\n",
       "      <td>CTD_Southern_Indian_Ocean_1_20240317_2</td>\n",
       "      <td>CTD_Cast</td>\n",
       "      <td>CTD_Southern_Indian_Ocean_1_20240317</td>\n",
       "      <td>-29.4225</td>\n",
       "      <td>80.3244</td>\n",
       "      <td>2024-03-17</td>\n",
       "      <td>02:11:34</td>\n",
       "      <td>92.4</td>\n",
       "      <td>19.654</td>\n",
       "      <td>34.476</td>\n",
       "      <td>10.22</td>\n",
       "      <td>5.78</td>\n",
       "      <td>Southern Indian Ocean</td>\n",
       "    </tr>\n",
       "    <tr>\n",
       "      <th>2</th>\n",
       "      <td>CTD_Southern_Indian_Ocean_1_20240317_3</td>\n",
       "      <td>CTD_Cast</td>\n",
       "      <td>CTD_Southern_Indian_Ocean_1_20240317</td>\n",
       "      <td>-29.4225</td>\n",
       "      <td>80.3244</td>\n",
       "      <td>2024-03-17</td>\n",
       "      <td>02:11:34</td>\n",
       "      <td>297.1</td>\n",
       "      <td>9.895</td>\n",
       "      <td>34.671</td>\n",
       "      <td>30.70</td>\n",
       "      <td>4.45</td>\n",
       "      <td>Southern Indian Ocean</td>\n",
       "    </tr>\n",
       "    <tr>\n",
       "      <th>3</th>\n",
       "      <td>CTD_Southern_Indian_Ocean_1_20240317_4</td>\n",
       "      <td>CTD_Cast</td>\n",
       "      <td>CTD_Southern_Indian_Ocean_1_20240317</td>\n",
       "      <td>-29.4225</td>\n",
       "      <td>80.3244</td>\n",
       "      <td>2024-03-17</td>\n",
       "      <td>02:11:34</td>\n",
       "      <td>284.0</td>\n",
       "      <td>9.079</td>\n",
       "      <td>34.414</td>\n",
       "      <td>29.36</td>\n",
       "      <td>4.70</td>\n",
       "      <td>Southern Indian Ocean</td>\n",
       "    </tr>\n",
       "    <tr>\n",
       "      <th>4</th>\n",
       "      <td>CTD_Southern_Indian_Ocean_1_20240317_5</td>\n",
       "      <td>CTD_Cast</td>\n",
       "      <td>CTD_Southern_Indian_Ocean_1_20240317</td>\n",
       "      <td>-29.4225</td>\n",
       "      <td>80.3244</td>\n",
       "      <td>2024-03-17</td>\n",
       "      <td>02:11:34</td>\n",
       "      <td>484.0</td>\n",
       "      <td>7.459</td>\n",
       "      <td>34.615</td>\n",
       "      <td>49.41</td>\n",
       "      <td>2.82</td>\n",
       "      <td>Southern Indian Ocean</td>\n",
       "    </tr>\n",
       "  </tbody>\n",
       "</table>\n",
       "</div>"
      ],
      "text/plain": [
       "                                       id      type  \\\n",
       "0  CTD_Southern_Indian_Ocean_1_20240317_1  CTD_Cast   \n",
       "1  CTD_Southern_Indian_Ocean_1_20240317_2  CTD_Cast   \n",
       "2  CTD_Southern_Indian_Ocean_1_20240317_3  CTD_Cast   \n",
       "3  CTD_Southern_Indian_Ocean_1_20240317_4  CTD_Cast   \n",
       "4  CTD_Southern_Indian_Ocean_1_20240317_5  CTD_Cast   \n",
       "\n",
       "                                cast_id  latitude  longitude        date  \\\n",
       "0  CTD_Southern_Indian_Ocean_1_20240317  -29.4225    80.3244  2024-03-17   \n",
       "1  CTD_Southern_Indian_Ocean_1_20240317  -29.4225    80.3244  2024-03-17   \n",
       "2  CTD_Southern_Indian_Ocean_1_20240317  -29.4225    80.3244  2024-03-17   \n",
       "3  CTD_Southern_Indian_Ocean_1_20240317  -29.4225    80.3244  2024-03-17   \n",
       "4  CTD_Southern_Indian_Ocean_1_20240317  -29.4225    80.3244  2024-03-17   \n",
       "\n",
       "       time  depth  temperature  salinity  pressure  dissolved_oxygen  \\\n",
       "0  02:11:34    0.0       28.534    34.930      0.99              6.97   \n",
       "1  02:11:34   92.4       19.654    34.476     10.22              5.78   \n",
       "2  02:11:34  297.1        9.895    34.671     30.70              4.45   \n",
       "3  02:11:34  284.0        9.079    34.414     29.36              4.70   \n",
       "4  02:11:34  484.0        7.459    34.615     49.41              2.82   \n",
       "\n",
       "                  region  \n",
       "0  Southern Indian Ocean  \n",
       "1  Southern Indian Ocean  \n",
       "2  Southern Indian Ocean  \n",
       "3  Southern Indian Ocean  \n",
       "4  Southern Indian Ocean  "
      ]
     },
     "execution_count": 6,
     "metadata": {},
     "output_type": "execute_result"
    }
   ],
   "source": [
    "df"
   ]
  },
  {
   "cell_type": "markdown",
   "metadata": {},
   "source": [
    "NOTE: Process in chunks if dataset is big."
   ]
  },
  {
   "cell_type": "code",
   "execution_count": 16,
   "metadata": {},
   "outputs": [],
   "source": [
    "import google.generativeai as genai\n",
    "import os\n",
    "\n",
    "# Configure the API key\n",
    "genai.configure(api_key=os.getenv(\"GOOGLE_API_KEY\"))\n",
    "\n",
    "docs = []\n",
    "metadatas = []\n",
    "ids = []\n",
    "embeddings = []\n",
    "\n",
    "for index, row in df.iterrows():\n",
    "    output_str = \"\"\n",
    "    # Treat each row as a separate chunk\n",
    "    for col in df.columns:\n",
    "        output_str += f\"{col}: {row[col]},\\n\"\n",
    "    \n",
    "    # Use Google's embedding model\n",
    "    response = genai.embed_content(\n",
    "        model=\"models/embedding-001\",  # Google's text embedding model\n",
    "        content=output_str,\n",
    "        task_type=\"retrieval_document\"  # or \"retrieval_query\", \"semantic_similarity\", etc.\n",
    "    )\n",
    "    \n",
    "    embeddings.append(response['embedding'])\n",
    "    docs.append(output_str)\n",
    "    metadatas.append({\"source\": \"ocean_1\"})\n",
    "    ids.append(f\"id{index}\")"
   ]
  },
  {
   "cell_type": "code",
   "execution_count": 17,
   "metadata": {},
   "outputs": [
    {
     "data": {
      "text/plain": [
       "['id: CTD_Southern_Indian_Ocean_1_20240317_1,\\ntype: CTD_Cast,\\ncast_id: CTD_Southern_Indian_Ocean_1_20240317,\\nlatitude: -29.4225,\\nlongitude: 80.3244,\\ndate: 2024-03-17,\\ntime: 02:11:34,\\ndepth: 0.0,\\ntemperature: 28.534,\\nsalinity: 34.93,\\npressure: 0.99,\\ndissolved_oxygen: 6.97,\\nregion: Southern Indian Ocean,\\n',\n",
       " 'id: CTD_Southern_Indian_Ocean_1_20240317_2,\\ntype: CTD_Cast,\\ncast_id: CTD_Southern_Indian_Ocean_1_20240317,\\nlatitude: -29.4225,\\nlongitude: 80.3244,\\ndate: 2024-03-17,\\ntime: 02:11:34,\\ndepth: 92.4,\\ntemperature: 19.654,\\nsalinity: 34.476,\\npressure: 10.22,\\ndissolved_oxygen: 5.78,\\nregion: Southern Indian Ocean,\\n',\n",
       " 'id: CTD_Southern_Indian_Ocean_1_20240317_3,\\ntype: CTD_Cast,\\ncast_id: CTD_Southern_Indian_Ocean_1_20240317,\\nlatitude: -29.4225,\\nlongitude: 80.3244,\\ndate: 2024-03-17,\\ntime: 02:11:34,\\ndepth: 297.1,\\ntemperature: 9.895,\\nsalinity: 34.671,\\npressure: 30.7,\\ndissolved_oxygen: 4.45,\\nregion: Southern Indian Ocean,\\n',\n",
       " 'id: CTD_Southern_Indian_Ocean_1_20240317_4,\\ntype: CTD_Cast,\\ncast_id: CTD_Southern_Indian_Ocean_1_20240317,\\nlatitude: -29.4225,\\nlongitude: 80.3244,\\ndate: 2024-03-17,\\ntime: 02:11:34,\\ndepth: 284.0,\\ntemperature: 9.079,\\nsalinity: 34.414,\\npressure: 29.36,\\ndissolved_oxygen: 4.7,\\nregion: Southern Indian Ocean,\\n',\n",
       " 'id: CTD_Southern_Indian_Ocean_1_20240317_5,\\ntype: CTD_Cast,\\ncast_id: CTD_Southern_Indian_Ocean_1_20240317,\\nlatitude: -29.4225,\\nlongitude: 80.3244,\\ndate: 2024-03-17,\\ntime: 02:11:34,\\ndepth: 484.0,\\ntemperature: 7.459,\\nsalinity: 34.615,\\npressure: 49.41,\\ndissolved_oxygen: 2.82,\\nregion: Southern Indian Ocean,\\n']"
      ]
     },
     "execution_count": 17,
     "metadata": {},
     "output_type": "execute_result"
    }
   ],
   "source": [
    "docs"
   ]
  },
  {
   "cell_type": "code",
   "execution_count": 18,
   "metadata": {},
   "outputs": [
    {
     "name": "stdout",
     "output_type": "stream",
     "text": [
      "[{'source': 'ocean_1'}, {'source': 'ocean_1'}, {'source': 'ocean_1'}, {'source': 'ocean_1'}, {'source': 'ocean_1'}]\n",
      "['id0', 'id1', 'id2', 'id3', 'id4']\n"
     ]
    }
   ],
   "source": [
    "print(metadatas)\n",
    "print(ids)"
   ]
  },
  {
   "cell_type": "code",
   "execution_count": 19,
   "metadata": {},
   "outputs": [
    {
     "data": {
      "text/plain": [
       "[-0.0053378525,\n",
       " -0.0152130965,\n",
       " -0.06014165,\n",
       " 0.0003721821,\n",
       " 0.03362041,\n",
       " 0.031531416,\n",
       " 0.0503816,\n",
       " -0.016563421,\n",
       " 0.029114323,\n",
       " 0.027425164]"
      ]
     },
     "execution_count": 19,
     "metadata": {},
     "output_type": "execute_result"
    }
   ],
   "source": [
    "embeddings[0][:10]"
   ]
  },
  {
   "cell_type": "code",
   "execution_count": 21,
   "metadata": {},
   "outputs": [
    {
     "ename": "NameError",
     "evalue": "name 'collection' is not defined",
     "output_type": "error",
     "traceback": [
      "\u001b[31m---------------------------------------------------------------------------\u001b[39m",
      "\u001b[31mNameError\u001b[39m                                 Traceback (most recent call last)",
      "\u001b[36mCell\u001b[39m\u001b[36m \u001b[39m\u001b[32mIn[21]\u001b[39m\u001b[32m, line 1\u001b[39m\n\u001b[32m----> \u001b[39m\u001b[32m1\u001b[39m \u001b[43mcollection\u001b[49m.add(\n\u001b[32m      2\u001b[39m     documents=docs,\n\u001b[32m      3\u001b[39m     metadatas=metadatas,\n\u001b[32m      4\u001b[39m     embeddings=embeddings,\n\u001b[32m      5\u001b[39m     ids=ids\n\u001b[32m      6\u001b[39m )\n",
      "\u001b[31mNameError\u001b[39m: name 'collection' is not defined"
     ]
    }
   ],
   "source": [
    "collection.add(\n",
    "    documents=docs,\n",
    "    metadatas=metadatas,\n",
    "    embeddings=embeddings,\n",
    "    ids=ids\n",
    ")"
   ]
  },
  {
   "cell_type": "markdown",
   "metadata": {},
   "source": [
    "Verify the vectorDB creation"
   ]
  },
  {
   "cell_type": "code",
   "execution_count": 22,
   "metadata": {},
   "outputs": [
    {
     "ename": "NameError",
     "evalue": "name 'collection' is not defined",
     "output_type": "error",
     "traceback": [
      "\u001b[31m---------------------------------------------------------------------------\u001b[39m",
      "\u001b[31mNameError\u001b[39m                                 Traceback (most recent call last)",
      "\u001b[36mCell\u001b[39m\u001b[36m \u001b[39m\u001b[32mIn[22]\u001b[39m\u001b[32m, line 1\u001b[39m\n\u001b[32m----> \u001b[39m\u001b[32m1\u001b[39m \u001b[38;5;28mprint\u001b[39m(\u001b[33m\"\u001b[39m\u001b[33mNumber of vectors in vectordb:\u001b[39m\u001b[33m\"\u001b[39m, \u001b[43mcollection\u001b[49m.count())\n",
      "\u001b[31mNameError\u001b[39m: name 'collection' is not defined"
     ]
    }
   ],
   "source": [
    "print(\"Number of vectors in vectordb:\", collection.count())"
   ]
  },
  {
   "cell_type": "markdown",
   "metadata": {},
   "source": [
    "### RAG"
   ]
  },
  {
   "cell_type": "code",
   "execution_count": 8,
   "metadata": {},
   "outputs": [],
   "source": [
    "import google.generativeai as genai"
   ]
  },
  {
   "cell_type": "code",
   "execution_count": 10,
   "metadata": {},
   "outputs": [],
   "source": [
    "model_name = \"gemini-1.5-flash\"\n",
    "google_api_key = os.environ[\"GOOGLE_API_KEY\"]"
   ]
  },
  {
   "cell_type": "code",
   "execution_count": 11,
   "metadata": {},
   "outputs": [],
   "source": [
    "genai.configure(api_key=os.getenv(\"GOOGLE_API_KEY\"))\n",
    "gemini_client = genai.GenerativeModel('gemini-1.5-flash')"
   ]
  },
  {
   "cell_type": "markdown",
   "metadata": {},
   "source": [
    "**Perform similarity search**"
   ]
  },
  {
   "cell_type": "code",
   "execution_count": 12,
   "metadata": {},
   "outputs": [],
   "source": [
    "query_texts = \"what's the average depth of id\"\n",
    "response = genai.embed_content(\n",
    "    model=\"models/embedding-001\",\n",
    "    content=query_texts\n",
    ")\n",
    "query_embeddings = response['embedding']"
   ]
  },
  {
   "cell_type": "markdown",
   "metadata": {},
   "source": [
    "**Load the chromaDB collection for vector search**"
   ]
  },
  {
   "cell_type": "code",
   "execution_count": 23,
   "metadata": {},
   "outputs": [
    {
     "data": {
      "text/plain": [
       "0"
      ]
     },
     "execution_count": 23,
     "metadata": {},
     "output_type": "execute_result"
    }
   ],
   "source": [
    "vectordb = chroma_client.get_collection(name=\"ocean_1\")\n",
    "vectordb.count()"
   ]
  },
  {
   "cell_type": "code",
   "execution_count": 16,
   "metadata": {},
   "outputs": [
    {
     "data": {
      "text/plain": [
       "{'ids': [[]],\n",
       " 'embeddings': None,\n",
       " 'documents': [[]],\n",
       " 'uris': None,\n",
       " 'included': ['metadatas', 'documents', 'distances'],\n",
       " 'data': None,\n",
       " 'metadatas': [[]],\n",
       " 'distances': [[]]}"
      ]
     },
     "execution_count": 16,
     "metadata": {},
     "output_type": "execute_result"
    }
   ],
   "source": [
    "results = vectordb.query(\n",
    "    query_embeddings = query_embeddings,\n",
    "    n_results=1 #top_k\n",
    ")\n",
    "\n",
    "results"
   ]
  },
  {
   "cell_type": "markdown",
   "metadata": {},
   "source": [
    "Pass the results to an LLM"
   ]
  },
  {
   "cell_type": "code",
   "execution_count": 17,
   "metadata": {},
   "outputs": [],
   "source": [
    "system_role = \"You will recieve the user's question along with the search results of that question over a database. Give the user the proper answer.\"\n",
    "prompt = f\"User's question: {query_texts} \\n\\n Search results:\\n {results}\"\n",
    "\n",
    "messages = [\n",
    "    {\"role\": \"system\", \"content\": str(\n",
    "        system_role\n",
    "        )},\n",
    "    {\"role\": \"user\", \"content\": prompt}\n",
    "]"
   ]
  },
  {
   "cell_type": "code",
   "execution_count": 18,
   "metadata": {},
   "outputs": [
    {
     "ename": "KeyError",
     "evalue": "\"Unable to determine the intended type of the `dict`. For `Content`, a 'parts' key is expected. For `Part`, either an 'inline_data' or a 'text' key is expected. For `Blob`, both 'mime_type' and 'data' keys are expected. However, the provided dictionary has the following keys: ['role', 'content']\"",
     "output_type": "error",
     "traceback": [
      "\u001b[31m---------------------------------------------------------------------------\u001b[39m",
      "\u001b[31mKeyError\u001b[39m                                  Traceback (most recent call last)",
      "\u001b[36mCell\u001b[39m\u001b[36m \u001b[39m\u001b[32mIn[18]\u001b[39m\u001b[32m, line 11\u001b[39m\n\u001b[32m      8\u001b[39m model = genai.GenerativeModel(\u001b[33m'\u001b[39m\u001b[33mgemini-1.5-flash\u001b[39m\u001b[33m'\u001b[39m)  \u001b[38;5;66;03m# or 'gemini-pro-vision' for multimodal\u001b[39;00m\n\u001b[32m     10\u001b[39m \u001b[38;5;66;03m# Generate response\u001b[39;00m\n\u001b[32m---> \u001b[39m\u001b[32m11\u001b[39m response = \u001b[43mmodel\u001b[49m\u001b[43m.\u001b[49m\u001b[43mgenerate_content\u001b[49m\u001b[43m(\u001b[49m\u001b[43mmessages\u001b[49m\u001b[43m)\u001b[49m\n",
      "\u001b[36mFile \u001b[39m\u001b[32mc:\\just be there\\hackathon\\FloatChat\\.venv\\Lib\\site-packages\\google\\generativeai\\generative_models.py:305\u001b[39m, in \u001b[36mGenerativeModel.generate_content\u001b[39m\u001b[34m(self, contents, generation_config, safety_settings, stream, tools, tool_config, request_options)\u001b[39m\n\u001b[32m    302\u001b[39m \u001b[38;5;28;01mif\u001b[39;00m \u001b[38;5;129;01mnot\u001b[39;00m contents:\n\u001b[32m    303\u001b[39m     \u001b[38;5;28;01mraise\u001b[39;00m \u001b[38;5;167;01mTypeError\u001b[39;00m(\u001b[33m\"\u001b[39m\u001b[33mcontents must not be empty\u001b[39m\u001b[33m\"\u001b[39m)\n\u001b[32m--> \u001b[39m\u001b[32m305\u001b[39m request = \u001b[38;5;28;43mself\u001b[39;49m\u001b[43m.\u001b[49m\u001b[43m_prepare_request\u001b[49m\u001b[43m(\u001b[49m\n\u001b[32m    306\u001b[39m \u001b[43m    \u001b[49m\u001b[43mcontents\u001b[49m\u001b[43m=\u001b[49m\u001b[43mcontents\u001b[49m\u001b[43m,\u001b[49m\n\u001b[32m    307\u001b[39m \u001b[43m    \u001b[49m\u001b[43mgeneration_config\u001b[49m\u001b[43m=\u001b[49m\u001b[43mgeneration_config\u001b[49m\u001b[43m,\u001b[49m\n\u001b[32m    308\u001b[39m \u001b[43m    \u001b[49m\u001b[43msafety_settings\u001b[49m\u001b[43m=\u001b[49m\u001b[43msafety_settings\u001b[49m\u001b[43m,\u001b[49m\n\u001b[32m    309\u001b[39m \u001b[43m    \u001b[49m\u001b[43mtools\u001b[49m\u001b[43m=\u001b[49m\u001b[43mtools\u001b[49m\u001b[43m,\u001b[49m\n\u001b[32m    310\u001b[39m \u001b[43m    \u001b[49m\u001b[43mtool_config\u001b[49m\u001b[43m=\u001b[49m\u001b[43mtool_config\u001b[49m\u001b[43m,\u001b[49m\n\u001b[32m    311\u001b[39m \u001b[43m\u001b[49m\u001b[43m)\u001b[49m\n\u001b[32m    313\u001b[39m \u001b[38;5;28;01mif\u001b[39;00m request.contents \u001b[38;5;129;01mand\u001b[39;00m \u001b[38;5;129;01mnot\u001b[39;00m request.contents[-\u001b[32m1\u001b[39m].role:\n\u001b[32m    314\u001b[39m     request.contents[-\u001b[32m1\u001b[39m].role = _USER_ROLE\n",
      "\u001b[36mFile \u001b[39m\u001b[32mc:\\just be there\\hackathon\\FloatChat\\.venv\\Lib\\site-packages\\google\\generativeai\\generative_models.py:154\u001b[39m, in \u001b[36mGenerativeModel._prepare_request\u001b[39m\u001b[34m(self, contents, generation_config, safety_settings, tools, tool_config)\u001b[39m\n\u001b[32m    151\u001b[39m \u001b[38;5;28;01melse\u001b[39;00m:\n\u001b[32m    152\u001b[39m     tool_config = content_types.to_tool_config(tool_config)\n\u001b[32m--> \u001b[39m\u001b[32m154\u001b[39m contents = \u001b[43mcontent_types\u001b[49m\u001b[43m.\u001b[49m\u001b[43mto_contents\u001b[49m\u001b[43m(\u001b[49m\u001b[43mcontents\u001b[49m\u001b[43m)\u001b[49m\n\u001b[32m    156\u001b[39m generation_config = generation_types.to_generation_config_dict(generation_config)\n\u001b[32m    157\u001b[39m merged_gc = \u001b[38;5;28mself\u001b[39m._generation_config.copy()\n",
      "\u001b[36mFile \u001b[39m\u001b[32mc:\\just be there\\hackathon\\FloatChat\\.venv\\Lib\\site-packages\\google\\generativeai\\types\\content_types.py:326\u001b[39m, in \u001b[36mto_contents\u001b[39m\u001b[34m(contents)\u001b[39m\n\u001b[32m    323\u001b[39m \u001b[38;5;28;01mif\u001b[39;00m \u001b[38;5;28misinstance\u001b[39m(contents, Iterable) \u001b[38;5;129;01mand\u001b[39;00m \u001b[38;5;129;01mnot\u001b[39;00m \u001b[38;5;28misinstance\u001b[39m(contents, (\u001b[38;5;28mstr\u001b[39m, Mapping)):\n\u001b[32m    324\u001b[39m     \u001b[38;5;28;01mtry\u001b[39;00m:\n\u001b[32m    325\u001b[39m         \u001b[38;5;66;03m# strict_to_content so [[parts], [parts]] doesn't assume roles.\u001b[39;00m\n\u001b[32m--> \u001b[39m\u001b[32m326\u001b[39m         contents = \u001b[43m[\u001b[49m\u001b[43mstrict_to_content\u001b[49m\u001b[43m(\u001b[49m\u001b[43mc\u001b[49m\u001b[43m)\u001b[49m\u001b[43m \u001b[49m\u001b[38;5;28;43;01mfor\u001b[39;49;00m\u001b[43m \u001b[49m\u001b[43mc\u001b[49m\u001b[43m \u001b[49m\u001b[38;5;129;43;01min\u001b[39;49;00m\u001b[43m \u001b[49m\u001b[43mcontents\u001b[49m\u001b[43m]\u001b[49m\n\u001b[32m    327\u001b[39m         \u001b[38;5;28;01mreturn\u001b[39;00m contents\n\u001b[32m    328\u001b[39m     \u001b[38;5;28;01mexcept\u001b[39;00m \u001b[38;5;167;01mTypeError\u001b[39;00m:\n\u001b[32m    329\u001b[39m         \u001b[38;5;66;03m# If you get a TypeError here it's probably because that was a list\u001b[39;00m\n\u001b[32m    330\u001b[39m         \u001b[38;5;66;03m# of parts, not a list of contents, so fall back to `to_content`.\u001b[39;00m\n",
      "\u001b[36mFile \u001b[39m\u001b[32mc:\\just be there\\hackathon\\FloatChat\\.venv\\Lib\\site-packages\\google\\generativeai\\types\\content_types.py:326\u001b[39m, in \u001b[36m<listcomp>\u001b[39m\u001b[34m(.0)\u001b[39m\n\u001b[32m    323\u001b[39m \u001b[38;5;28;01mif\u001b[39;00m \u001b[38;5;28misinstance\u001b[39m(contents, Iterable) \u001b[38;5;129;01mand\u001b[39;00m \u001b[38;5;129;01mnot\u001b[39;00m \u001b[38;5;28misinstance\u001b[39m(contents, (\u001b[38;5;28mstr\u001b[39m, Mapping)):\n\u001b[32m    324\u001b[39m     \u001b[38;5;28;01mtry\u001b[39;00m:\n\u001b[32m    325\u001b[39m         \u001b[38;5;66;03m# strict_to_content so [[parts], [parts]] doesn't assume roles.\u001b[39;00m\n\u001b[32m--> \u001b[39m\u001b[32m326\u001b[39m         contents = [\u001b[43mstrict_to_content\u001b[49m\u001b[43m(\u001b[49m\u001b[43mc\u001b[49m\u001b[43m)\u001b[49m \u001b[38;5;28;01mfor\u001b[39;00m c \u001b[38;5;129;01min\u001b[39;00m contents]\n\u001b[32m    327\u001b[39m         \u001b[38;5;28;01mreturn\u001b[39;00m contents\n\u001b[32m    328\u001b[39m     \u001b[38;5;28;01mexcept\u001b[39;00m \u001b[38;5;167;01mTypeError\u001b[39;00m:\n\u001b[32m    329\u001b[39m         \u001b[38;5;66;03m# If you get a TypeError here it's probably because that was a list\u001b[39;00m\n\u001b[32m    330\u001b[39m         \u001b[38;5;66;03m# of parts, not a list of contents, so fall back to `to_content`.\u001b[39;00m\n",
      "\u001b[36mFile \u001b[39m\u001b[32mc:\\just be there\\hackathon\\FloatChat\\.venv\\Lib\\site-packages\\google\\generativeai\\types\\content_types.py:304\u001b[39m, in \u001b[36mstrict_to_content\u001b[39m\u001b[34m(content)\u001b[39m\n\u001b[32m    302\u001b[39m \u001b[38;5;28;01mdef\u001b[39;00m\u001b[38;5;250m \u001b[39m\u001b[34mstrict_to_content\u001b[39m(content: StrictContentType):\n\u001b[32m    303\u001b[39m     \u001b[38;5;28;01mif\u001b[39;00m \u001b[38;5;28misinstance\u001b[39m(content, Mapping):\n\u001b[32m--> \u001b[39m\u001b[32m304\u001b[39m         content = \u001b[43m_convert_dict\u001b[49m\u001b[43m(\u001b[49m\u001b[43mcontent\u001b[49m\u001b[43m)\u001b[49m\n\u001b[32m    306\u001b[39m     \u001b[38;5;28;01mif\u001b[39;00m \u001b[38;5;28misinstance\u001b[39m(content, protos.Content):\n\u001b[32m    307\u001b[39m         \u001b[38;5;28;01mreturn\u001b[39;00m content\n",
      "\u001b[36mFile \u001b[39m\u001b[32mc:\\just be there\\hackathon\\FloatChat\\.venv\\Lib\\site-packages\\google\\generativeai\\types\\content_types.py:176\u001b[39m, in \u001b[36m_convert_dict\u001b[39m\u001b[34m(d)\u001b[39m\n\u001b[32m    174\u001b[39m     \u001b[38;5;28;01mreturn\u001b[39;00m protos.Blob(blob)\n\u001b[32m    175\u001b[39m \u001b[38;5;28;01melse\u001b[39;00m:\n\u001b[32m--> \u001b[39m\u001b[32m176\u001b[39m     \u001b[38;5;28;01mraise\u001b[39;00m \u001b[38;5;167;01mKeyError\u001b[39;00m(\n\u001b[32m    177\u001b[39m         \u001b[33m\"\u001b[39m\u001b[33mUnable to determine the intended type of the `dict`. \u001b[39m\u001b[33m\"\u001b[39m\n\u001b[32m    178\u001b[39m         \u001b[33m\"\u001b[39m\u001b[33mFor `Content`, a \u001b[39m\u001b[33m'\u001b[39m\u001b[33mparts\u001b[39m\u001b[33m'\u001b[39m\u001b[33m key is expected. \u001b[39m\u001b[33m\"\u001b[39m\n\u001b[32m    179\u001b[39m         \u001b[33m\"\u001b[39m\u001b[33mFor `Part`, either an \u001b[39m\u001b[33m'\u001b[39m\u001b[33minline_data\u001b[39m\u001b[33m'\u001b[39m\u001b[33m or a \u001b[39m\u001b[33m'\u001b[39m\u001b[33mtext\u001b[39m\u001b[33m'\u001b[39m\u001b[33m key is expected. \u001b[39m\u001b[33m\"\u001b[39m\n\u001b[32m    180\u001b[39m         \u001b[33m\"\u001b[39m\u001b[33mFor `Blob`, both \u001b[39m\u001b[33m'\u001b[39m\u001b[33mmime_type\u001b[39m\u001b[33m'\u001b[39m\u001b[33m and \u001b[39m\u001b[33m'\u001b[39m\u001b[33mdata\u001b[39m\u001b[33m'\u001b[39m\u001b[33m keys are expected. \u001b[39m\u001b[33m\"\u001b[39m\n\u001b[32m    181\u001b[39m         \u001b[33mf\u001b[39m\u001b[33m\"\u001b[39m\u001b[33mHowever, the provided dictionary has the following keys: \u001b[39m\u001b[38;5;132;01m{\u001b[39;00m\u001b[38;5;28mlist\u001b[39m(d.keys())\u001b[38;5;132;01m}\u001b[39;00m\u001b[33m\"\u001b[39m\n\u001b[32m    182\u001b[39m     )\n",
      "\u001b[31mKeyError\u001b[39m: \"Unable to determine the intended type of the `dict`. For `Content`, a 'parts' key is expected. For `Part`, either an 'inline_data' or a 'text' key is expected. For `Blob`, both 'mime_type' and 'data' keys are expected. However, the provided dictionary has the following keys: ['role', 'content']\""
     ]
    }
   ],
   "source": [
    "import google.generativeai as genai\n",
    "import os\n",
    "\n",
    "# Configure the API key\n",
    "genai.configure(api_key=os.getenv(\"GOOGLE_API_KEY\"))\n",
    "\n",
    "# Create the model\n",
    "model = genai.GenerativeModel('gemini-1.5-flash')  # or 'gemini-pro-vision' for multimodal\n",
    "\n",
    "# Generate response\n",
    "response = model.generate_content(messages)"
   ]
  },
  {
   "cell_type": "code",
   "execution_count": 19,
   "metadata": {},
   "outputs": [
    {
     "ename": "AttributeError",
     "evalue": "'dict' object has no attribute 'choices'",
     "output_type": "error",
     "traceback": [
      "\u001b[31m---------------------------------------------------------------------------\u001b[39m",
      "\u001b[31mAttributeError\u001b[39m                            Traceback (most recent call last)",
      "\u001b[36mCell\u001b[39m\u001b[36m \u001b[39m\u001b[32mIn[19]\u001b[39m\u001b[32m, line 1\u001b[39m\n\u001b[32m----> \u001b[39m\u001b[32m1\u001b[39m \u001b[43mresponse\u001b[49m\u001b[43m.\u001b[49m\u001b[43mchoices\u001b[49m[\u001b[32m0\u001b[39m].message.content\n",
      "\u001b[31mAttributeError\u001b[39m: 'dict' object has no attribute 'choices'"
     ]
    }
   ],
   "source": [
    "response.choices[0].message.content"
   ]
  },
  {
   "cell_type": "markdown",
   "metadata": {},
   "source": [
    "**Fact check**"
   ]
  },
  {
   "cell_type": "code",
   "execution_count": 20,
   "metadata": {},
   "outputs": [
    {
     "data": {
      "text/html": [
       "<div>\n",
       "<style scoped>\n",
       "    .dataframe tbody tr th:only-of-type {\n",
       "        vertical-align: middle;\n",
       "    }\n",
       "\n",
       "    .dataframe tbody tr th {\n",
       "        vertical-align: top;\n",
       "    }\n",
       "\n",
       "    .dataframe thead th {\n",
       "        text-align: right;\n",
       "    }\n",
       "</style>\n",
       "<table border=\"1\" class=\"dataframe\">\n",
       "  <thead>\n",
       "    <tr style=\"text-align: right;\">\n",
       "      <th></th>\n",
       "      <th>id</th>\n",
       "      <th>type</th>\n",
       "      <th>cast_id</th>\n",
       "      <th>latitude</th>\n",
       "      <th>longitude</th>\n",
       "      <th>date</th>\n",
       "      <th>time</th>\n",
       "      <th>depth</th>\n",
       "      <th>temperature</th>\n",
       "      <th>salinity</th>\n",
       "      <th>pressure</th>\n",
       "      <th>dissolved_oxygen</th>\n",
       "      <th>region</th>\n",
       "    </tr>\n",
       "  </thead>\n",
       "  <tbody>\n",
       "    <tr>\n",
       "      <th>0</th>\n",
       "      <td>CTD_Southern_Indian_Ocean_1_20240317_1</td>\n",
       "      <td>CTD_Cast</td>\n",
       "      <td>CTD_Southern_Indian_Ocean_1_20240317</td>\n",
       "      <td>-29.4225</td>\n",
       "      <td>80.3244</td>\n",
       "      <td>2024-03-17</td>\n",
       "      <td>02:11:34</td>\n",
       "      <td>0.0</td>\n",
       "      <td>28.534</td>\n",
       "      <td>34.930</td>\n",
       "      <td>0.99</td>\n",
       "      <td>6.97</td>\n",
       "      <td>Southern Indian Ocean</td>\n",
       "    </tr>\n",
       "    <tr>\n",
       "      <th>1</th>\n",
       "      <td>CTD_Southern_Indian_Ocean_1_20240317_2</td>\n",
       "      <td>CTD_Cast</td>\n",
       "      <td>CTD_Southern_Indian_Ocean_1_20240317</td>\n",
       "      <td>-29.4225</td>\n",
       "      <td>80.3244</td>\n",
       "      <td>2024-03-17</td>\n",
       "      <td>02:11:34</td>\n",
       "      <td>92.4</td>\n",
       "      <td>19.654</td>\n",
       "      <td>34.476</td>\n",
       "      <td>10.22</td>\n",
       "      <td>5.78</td>\n",
       "      <td>Southern Indian Ocean</td>\n",
       "    </tr>\n",
       "    <tr>\n",
       "      <th>2</th>\n",
       "      <td>CTD_Southern_Indian_Ocean_1_20240317_3</td>\n",
       "      <td>CTD_Cast</td>\n",
       "      <td>CTD_Southern_Indian_Ocean_1_20240317</td>\n",
       "      <td>-29.4225</td>\n",
       "      <td>80.3244</td>\n",
       "      <td>2024-03-17</td>\n",
       "      <td>02:11:34</td>\n",
       "      <td>297.1</td>\n",
       "      <td>9.895</td>\n",
       "      <td>34.671</td>\n",
       "      <td>30.70</td>\n",
       "      <td>4.45</td>\n",
       "      <td>Southern Indian Ocean</td>\n",
       "    </tr>\n",
       "    <tr>\n",
       "      <th>3</th>\n",
       "      <td>CTD_Southern_Indian_Ocean_1_20240317_4</td>\n",
       "      <td>CTD_Cast</td>\n",
       "      <td>CTD_Southern_Indian_Ocean_1_20240317</td>\n",
       "      <td>-29.4225</td>\n",
       "      <td>80.3244</td>\n",
       "      <td>2024-03-17</td>\n",
       "      <td>02:11:34</td>\n",
       "      <td>284.0</td>\n",
       "      <td>9.079</td>\n",
       "      <td>34.414</td>\n",
       "      <td>29.36</td>\n",
       "      <td>4.70</td>\n",
       "      <td>Southern Indian Ocean</td>\n",
       "    </tr>\n",
       "    <tr>\n",
       "      <th>4</th>\n",
       "      <td>CTD_Southern_Indian_Ocean_1_20240317_5</td>\n",
       "      <td>CTD_Cast</td>\n",
       "      <td>CTD_Southern_Indian_Ocean_1_20240317</td>\n",
       "      <td>-29.4225</td>\n",
       "      <td>80.3244</td>\n",
       "      <td>2024-03-17</td>\n",
       "      <td>02:11:34</td>\n",
       "      <td>484.0</td>\n",
       "      <td>7.459</td>\n",
       "      <td>34.615</td>\n",
       "      <td>49.41</td>\n",
       "      <td>2.82</td>\n",
       "      <td>Southern Indian Ocean</td>\n",
       "    </tr>\n",
       "  </tbody>\n",
       "</table>\n",
       "</div>"
      ],
      "text/plain": [
       "                                       id      type  \\\n",
       "0  CTD_Southern_Indian_Ocean_1_20240317_1  CTD_Cast   \n",
       "1  CTD_Southern_Indian_Ocean_1_20240317_2  CTD_Cast   \n",
       "2  CTD_Southern_Indian_Ocean_1_20240317_3  CTD_Cast   \n",
       "3  CTD_Southern_Indian_Ocean_1_20240317_4  CTD_Cast   \n",
       "4  CTD_Southern_Indian_Ocean_1_20240317_5  CTD_Cast   \n",
       "\n",
       "                                cast_id  latitude  longitude        date  \\\n",
       "0  CTD_Southern_Indian_Ocean_1_20240317  -29.4225    80.3244  2024-03-17   \n",
       "1  CTD_Southern_Indian_Ocean_1_20240317  -29.4225    80.3244  2024-03-17   \n",
       "2  CTD_Southern_Indian_Ocean_1_20240317  -29.4225    80.3244  2024-03-17   \n",
       "3  CTD_Southern_Indian_Ocean_1_20240317  -29.4225    80.3244  2024-03-17   \n",
       "4  CTD_Southern_Indian_Ocean_1_20240317  -29.4225    80.3244  2024-03-17   \n",
       "\n",
       "       time  depth  temperature  salinity  pressure  dissolved_oxygen  \\\n",
       "0  02:11:34    0.0       28.534    34.930      0.99              6.97   \n",
       "1  02:11:34   92.4       19.654    34.476     10.22              5.78   \n",
       "2  02:11:34  297.1        9.895    34.671     30.70              4.45   \n",
       "3  02:11:34  284.0        9.079    34.414     29.36              4.70   \n",
       "4  02:11:34  484.0        7.459    34.615     49.41              2.82   \n",
       "\n",
       "                  region  \n",
       "0  Southern Indian Ocean  \n",
       "1  Southern Indian Ocean  \n",
       "2  Southern Indian Ocean  \n",
       "3  Southern Indian Ocean  \n",
       "4  Southern Indian Ocean  "
      ]
     },
     "execution_count": 20,
     "metadata": {},
     "output_type": "execute_result"
    }
   ],
   "source": [
    "df"
   ]
  }
 ],
 "metadata": {
  "kernelspec": {
   "display_name": ".venv",
   "language": "python",
   "name": "python3"
  },
  "language_info": {
   "codemirror_mode": {
    "name": "ipython",
    "version": 3
   },
   "file_extension": ".py",
   "mimetype": "text/x-python",
   "name": "python",
   "nbconvert_exporter": "python",
   "pygments_lexer": "ipython3",
   "version": "3.11.4"
  }
 },
 "nbformat": 4,
 "nbformat_minor": 2
}
