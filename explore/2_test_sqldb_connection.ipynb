{
 "cells": [
  {
   "cell_type": "code",
   "execution_count": 3,
   "metadata": {},
   "outputs": [],
   "source": [
    "from pyprojroot import here\n",
    "db_path = str(here(\"data\")) + \"/csv_xlsx_sqldb.db\""
   ]
  },
  {
   "cell_type": "code",
   "execution_count": 11,
   "metadata": {},
   "outputs": [
    {
     "name": "stdout",
     "output_type": "stream",
     "text": [
      "sqlite\n",
      "['ocean_1']\n"
     ]
    },
    {
     "data": {
      "text/plain": [
       "\"[('CTD_Southern_Indian_Ocean_1_20240317_1', 'CTD_Cast', 'CTD_Southern_Indian_Ocean_1_20240317', -29.4225, 80.3244, '2024-03-17', '02:11:34', 0.0, 28.534, 34.93, 0.99, 6.97, 'Southern Indian Ocean'), ('CTD_Southern_Indian_Ocean_1_20240317_2', 'CTD_Cast', 'CTD_Southern_Indian_Ocean_1_20240317', -29.4225, 80.3244, '2024-03-17', '02:11:34', 92.4, 19.654, 34.476, 10.22, 5.78, 'Southern Indian Ocean'), ('CTD_Southern_Indian_Ocean_1_20240317_3', 'CTD_Cast', 'CTD_Southern_Indian_Ocean_1_20240317', -29.4225, 80.3244, '2024-03-17', '02:11:34', 297.1, 9.895, 34.671, 30.7, 4.45, 'Southern Indian Ocean'), ('CTD_Southern_Indian_Ocean_1_20240317_4', 'CTD_Cast', 'CTD_Southern_Indian_Ocean_1_20240317', -29.4225, 80.3244, '2024-03-17', '02:11:34', 284.0, 9.079, 34.414, 29.36, 4.7, 'Southern Indian Ocean'), ('CTD_Southern_Indian_Ocean_1_20240317_5', 'CTD_Cast', 'CTD_Southern_Indian_Ocean_1_20240317', -29.4225, 80.3244, '2024-03-17', '02:11:34', 484.0, 7.459, 34.615, 49.41, 2.82, 'Southern Indian Ocean')]\""
      ]
     },
     "execution_count": 11,
     "metadata": {},
     "output_type": "execute_result"
    }
   ],
   "source": [
    "from langchain_community.utilities import SQLDatabase\n",
    "db = SQLDatabase.from_uri(f\"sqlite:///{db_path}\")\n",
    "print(db.dialect)\n",
    "print(db.get_usable_table_names())\n",
    "db.run(\"SELECT * FROM ocean_1 LIMIT 5;\")"
   ]
  },
  {
   "cell_type": "markdown",
   "metadata": {},
   "source": [
    "**Inspect the sql database**"
   ]
  },
  {
   "cell_type": "code",
   "execution_count": 12,
   "metadata": {},
   "outputs": [
    {
     "name": "stdout",
     "output_type": "stream",
     "text": [
      "Tables: ['ocean_1']\n",
      "Information for table: ocean_1\n",
      "Schema: ['main']\n",
      "Column: id Type: TEXT\n",
      "Column: type Type: TEXT\n",
      "Column: cast_id Type: TEXT\n",
      "Column: latitude Type: FLOAT\n",
      "Column: longitude Type: FLOAT\n",
      "Column: date Type: TEXT\n",
      "Column: time Type: TEXT\n",
      "Column: depth Type: FLOAT\n",
      "Column: temperature Type: FLOAT\n",
      "Column: salinity Type: FLOAT\n",
      "Column: pressure Type: FLOAT\n",
      "Column: dissolved_oxygen Type: FLOAT\n",
      "Column: region Type: TEXT\n",
      "Primary Key Constraint: {'name': None, 'constrained_columns': []}\n",
      "Foreign Keys: []\n"
     ]
    }
   ],
   "source": [
    "from sqlalchemy import create_engine, inspect\n",
    "\n",
    "# Create an engine that connects to the test.db SQLite database\n",
    "engine = create_engine(f\"sqlite:///{db_path}\")\n",
    "\n",
    "# Connect to the database\n",
    "connection = engine.connect()\n",
    "\n",
    "# Create an inspector object\n",
    "inspector = inspect(engine)\n",
    "\n",
    "# Retrieve the names of all the tables in the database\n",
    "table_names = inspector.get_table_names()\n",
    "print(\"Tables:\", table_names)\n",
    "\n",
    "# Loop over each table to get detailed information like schema, columns, etc.\n",
    "for table_name in table_names:\n",
    "    print(f\"Information for table: {table_name}\")\n",
    "    \n",
    "    # Get the schema of the table (for SQLite, schema is often None)\n",
    "    print(f\"Schema: {inspector.get_schema_names()}\")\n",
    "    \n",
    "    # Get the columns and their attributes for each table\n",
    "    columns = inspector.get_columns(table_name)\n",
    "    for column in columns:\n",
    "        print(f\"Column: {column['name']} Type: {column['type']}\")\n",
    "    \n",
    "    # Additionally, you can use get_pk_constraint and get_foreign_keys \n",
    "    # methods to retrieve information about primary and foreign keys respectively\n",
    "    pk_constraint = inspector.get_pk_constraint(table_name)\n",
    "    print(f\"Primary Key Constraint: {pk_constraint}\")\n",
    "\n",
    "    foreign_keys = inspector.get_foreign_keys(table_name)\n",
    "    print(f\"Foreign Keys: {foreign_keys}\")\n",
    "\n",
    "# Do not forget to close the connection when done\n",
    "connection.close()"
   ]
  }
 ],
 "metadata": {
  "kernelspec": {
   "display_name": ".venv",
   "language": "python",
   "name": "python3"
  },
  "language_info": {
   "codemirror_mode": {
    "name": "ipython",
    "version": 3
   },
   "file_extension": ".py",
   "mimetype": "text/x-python",
   "name": "python",
   "nbconvert_exporter": "python",
   "pygments_lexer": "ipython3",
   "version": "3.11.4"
  }
 },
 "nbformat": 4,
 "nbformat_minor": 2
}
