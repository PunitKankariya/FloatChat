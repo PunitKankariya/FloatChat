{
 "cells": [
  {
   "cell_type": "code",
   "execution_count": 1,
   "metadata": {},
   "outputs": [],
   "source": [
    "from pyprojroot import here\n",
    "db_path = str(here(\"data\")) + \"/csv_xlsx_sqldb.db\""
   ]
  },
  {
   "cell_type": "code",
   "execution_count": 2,
   "metadata": {},
   "outputs": [
    {
     "name": "stdout",
     "output_type": "stream",
     "text": [
      "sqlite\n",
      "['ocean_2']\n"
     ]
    },
    {
     "data": {
      "text/plain": [
       "\"[('Paradip Coast', 2628.04, 15.98, 31.67, 359135.72, 7.49, 1.085, 'Medium', 32.03698004), ('Haldia Coast', 6655.49, 1.55, 31.68, 754228.57, 5.2, 1.316, 'Low', 54.46806663), ('Daman Coast', 5126.64, 10.1, 30.37, 604248.38, 2.95, 1.387, 'Low', 51.02472877), ('Kochi Coast', 4194.62, 4.03, 37.36, 512817.22, 6.18, 1.42, 'Low', 37.09633583), ('Kochi Coast', 1100.57, 1.9, 36.64, 209290.92, 6.76, 0.543, 'High', 34.86585202)]\""
      ]
     },
     "execution_count": 2,
     "metadata": {},
     "output_type": "execute_result"
    }
   ],
   "source": [
    "from langchain_community.utilities import SQLDatabase\n",
    "db = SQLDatabase.from_uri(f\"sqlite:///{db_path}\")\n",
    "print(db.dialect)\n",
    "print(db.get_usable_table_names())\n",
    "db.run(\"SELECT * FROM ocean_2 LIMIT 5;\")"
   ]
  },
  {
   "cell_type": "markdown",
   "metadata": {},
   "source": [
    "**Inspect the sql database**"
   ]
  },
  {
   "cell_type": "code",
   "execution_count": 3,
   "metadata": {},
   "outputs": [
    {
     "name": "stdout",
     "output_type": "stream",
     "text": [
      "Tables: ['ocean_2']\n",
      "Information for table: ocean_2\n",
      "Schema: ['main']\n",
      "Column: Location Type: TEXT\n",
      "Column: Depth Type: FLOAT\n",
      "Column: Temperature Type: FLOAT\n",
      "Column: Salinity Type: FLOAT\n",
      "Column: Pressure Type: FLOAT\n",
      "Column: Dissolved Oxygen Type: FLOAT\n",
      "Column: Sea Level Type: FLOAT\n",
      "Column: Tsunami Risk Level Type: TEXT\n",
      "Column: Conductivity Type: FLOAT\n",
      "Primary Key Constraint: {'name': None, 'constrained_columns': []}\n",
      "Foreign Keys: []\n"
     ]
    }
   ],
   "source": [
    "from sqlalchemy import create_engine, inspect\n",
    "\n",
    "# Create an engine that connects to the test.db SQLite database\n",
    "engine = create_engine(f\"sqlite:///{db_path}\")\n",
    "\n",
    "# Connect to the database\n",
    "connection = engine.connect()\n",
    "\n",
    "# Create an inspector object\n",
    "inspector = inspect(engine)\n",
    "\n",
    "# Retrieve the names of all the tables in the database\n",
    "table_names = inspector.get_table_names()\n",
    "print(\"Tables:\", table_names)\n",
    "\n",
    "# Loop over each table to get detailed information like schema, columns, etc.\n",
    "for table_name in table_names:\n",
    "    print(f\"Information for table: {table_name}\")\n",
    "    \n",
    "    # Get the schema of the table (for SQLite, schema is often None)\n",
    "    print(f\"Schema: {inspector.get_schema_names()}\")\n",
    "    \n",
    "    # Get the columns and their attributes for each table\n",
    "    columns = inspector.get_columns(table_name)\n",
    "    for column in columns:\n",
    "        print(f\"Column: {column['name']} Type: {column['type']}\")\n",
    "    \n",
    "    # Additionally, you can use get_pk_constraint and get_foreign_keys \n",
    "    # methods to retrieve information about primary and foreign keys respectively\n",
    "    pk_constraint = inspector.get_pk_constraint(table_name)\n",
    "    print(f\"Primary Key Constraint: {pk_constraint}\")\n",
    "\n",
    "    foreign_keys = inspector.get_foreign_keys(table_name)\n",
    "    print(f\"Foreign Keys: {foreign_keys}\")\n",
    "\n",
    "# Do not forget to close the connection when done\n",
    "connection.close()"
   ]
  }
 ],
 "metadata": {
  "kernelspec": {
   "display_name": ".venv",
   "language": "python",
   "name": "python3"
  },
  "language_info": {
   "codemirror_mode": {
    "name": "ipython",
    "version": 3
   },
   "file_extension": ".py",
   "mimetype": "text/x-python",
   "name": "python",
   "nbconvert_exporter": "python",
   "pygments_lexer": "ipython3",
   "version": "3.11.3"
  }
 },
 "nbformat": 4,
 "nbformat_minor": 2
}
